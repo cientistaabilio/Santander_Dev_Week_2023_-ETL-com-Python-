{
  "nbformat": 4,
  "nbformat_minor": 0,
  "metadata": {
    "colab": {
      "provenance": []
    },
    "kernelspec": {
      "name": "python3",
      "display_name": "Python 3"
    },
    "language_info": {
      "name": "python"
    }
  },
  "cells": [
    {
      "cell_type": "markdown",
      "source": [
        "\n",
        "\n",
        "```\n",
        "# Isto está formatado como código\n",
        "```\n",
        "\n",
        "# Santander Dev Week 2023 (ETL com Python)"
      ],
      "metadata": {
        "id": "BPJQsTCULaC-"
      }
    },
    {
      "cell_type": "markdown",
      "source": [
        "**Contexto:** ETL baseado no dataset titanic.csv, onde farei algumas pesquisas e montarei um relatório.\n",
        "\n",
        "**Condições do Problema:**\n",
        "\n",
        "1. O dataset contém valores nulos, o que pode levar a falsos positivos em algumas entradas.\n",
        "*   O dataset não possui informações sobre sobreviventes, faixa etária e classes sociais.\n",
        "\n",
        "2. O objetivo será criar funções que resolvam esse problema.\n",
        "3. Ao final, teremos o relatório com os dados extraídos..\n"
      ],
      "metadata": {
        "id": "k5fA5OrXt1a3"
      }
    },
    {
      "cell_type": "markdown",
      "source": [
        "## **E**xtract\n",
        "\n",
        "1.   Importamos o pandas\n",
        "2.   Carregamos o titanic.csv"
      ],
      "metadata": {
        "id": "9dfI-o7gLRq9"
      }
    },
    {
      "cell_type": "code",
      "execution_count": null,
      "metadata": {
        "id": "NYydpX_GLRCB"
      },
      "outputs": [],
      "source": [
        "import pandas as pd\n",
        "\n",
        "df = pd.read_csv('titanic.csv')"
      ]
    },
    {
      "cell_type": "markdown",
      "source": [
        "## **T**ransform\n",
        "\n",
        "Tratando valores e definindos funções"
      ],
      "metadata": {
        "id": "cWoqInB4TF1x"
      }
    },
    {
      "cell_type": "code",
      "source": [
        "def definindo_genero(df):\n",
        "  contagem_sexo = df['Sex'].value_counts()\n",
        "  porcentagem_mulheres = (contagem_sexo['female'] /len(df)) *100\n",
        "  porcentagem_homens = (contagem_sexo['male'] / len(df)) *100\n",
        "  return f\"Feminino: {porcentagem_mulheres:.2f}%\\nMasculino: {porcentagem_homens:.2f}%\""
      ],
      "metadata": {
        "id": "gWq93Yav_Xma"
      },
      "execution_count": null,
      "outputs": []
    },
    {
      "cell_type": "code",
      "source": [
        "def definindo_classe_social(df):\n",
        "    # Define os limites dos intervalos para cada classe social\n",
        "    limites = [0, 30, 70, float('inf')]\n",
        "\n",
        "    # Usamos o pd.cut() para calcular a contagem de cada classe social\n",
        "    contagem_classe_social = pd.cut(df['Fare'], bins=limites, right=False).value_counts(sort=False)\n",
        "\n",
        "    total = len(df)\n",
        "    percentuais = (contagem_classe_social / total) * 100\n",
        "\n",
        "    classes_sociais = ['Classe Baixa', 'Classe Média', 'Classe Alta']\n",
        "\n",
        "    # Cria uma string vazia que será interada pela classes sociais e seus percentuais\n",
        "    # a mensagem está no relatório mas também poderia ter sido definido abaixo.\n",
        "    resultado = \"\"\n",
        "    for classe, percentual in zip(classes_sociais, percentuais):\n",
        "        resultado += f\"\\n{classe}: {percentual:.2f}%, \"\n",
        "\n",
        "    # Remove a vírgula extra no final e retorna a string\n",
        "    return resultado[:-2]"
      ],
      "metadata": {
        "id": "q4Q6oYjogRPv"
      },
      "execution_count": null,
      "outputs": []
    },
    {
      "cell_type": "code",
      "source": [
        "def classificar_faixa_etaria(idade):\n",
        "    if pd.isna(idade):\n",
        "        return 'Idade não confirmada'\n",
        "    elif idade < 10:\n",
        "        return 'Criança'\n",
        "    elif idade < 14:\n",
        "        return 'Pré-adolescente'\n",
        "    elif idade < 18:\n",
        "        return 'Adolescente'\n",
        "    elif idade < 60:\n",
        "        return 'Adulto'\n",
        "    else:\n",
        "        return 'Idoso'"
      ],
      "metadata": {
        "id": "p2f9mP-CpaKr"
      },
      "execution_count": null,
      "outputs": []
    },
    {
      "cell_type": "code",
      "source": [
        "def criar_coluna_porcentagem_faixa_etaria():\n",
        "    df['Faixa_Etaria'] = df['Age'].apply(classificar_faixa_etaria)\n",
        "\n",
        "    contagem_faixa_etaria = df['Faixa_Etaria'].value_counts()\n",
        "\n",
        "    total_passageiros = len(df)\n",
        "    porcentagens_faixa_etaria = (contagem_faixa_etaria / total_passageiros) * 100\n",
        "\n",
        "    porcentagens_formatadas = porcentagens_faixa_etaria.apply(lambda x: f'{x:.2f}%')\n",
        "\n",
        "    return porcentagens_formatadas"
      ],
      "metadata": {
        "id": "2Hkb0rBA_b8l"
      },
      "execution_count": null,
      "outputs": []
    },
    {
      "cell_type": "code",
      "source": [
        "# Essa função achama a função classificar_faixa_etaria(idade)\n",
        "def calcular_e_imprimir_contagem_faixa_etaria(df):\n",
        "\n",
        "    df['Faixa_Etaria'] = df['Age'].apply(classificar_faixa_etaria)\n",
        "\n",
        "    contagem_faixa_etaria = df['Faixa_Etaria'].value_counts()\n",
        "    contagem_faixa_etaria_df = pd.DataFrame(contagem_faixa_etaria)\n",
        "\n",
        "    return contagem_faixa_etaria_df"
      ],
      "metadata": {
        "id": "Nep5RFAfpoNL"
      },
      "execution_count": null,
      "outputs": []
    },
    {
      "cell_type": "code",
      "source": [
        "def percentual_geral_sobreviventes():\n",
        "  total_passageiros = len(df)\n",
        "  # 1 = vivo, 0 = falecido\n",
        "  total_sobreviventes = len(df[df['Survived'] == 1])\n",
        "  total_nao_sobreviventes = len(df[df['Survived'] == 0])\n",
        "  percentual_sobreviventes = (total_sobreviventes / total_passageiros) * 100\n",
        "  percentual_nao_sobreviventes = (total_nao_sobreviventes / total_passageiros) * 100\n",
        "\n",
        "  return (f\"Percentual de pessoas que sobreviveram: {percentual_sobreviventes:.2f}%\\n\" +\n",
        "            f\"Percentual de pessoas que morreram: {percentual_nao_sobreviventes:.2f}%\")"
      ],
      "metadata": {
        "id": "bYw5xuetug_a"
      },
      "execution_count": null,
      "outputs": []
    },
    {
      "cell_type": "markdown",
      "source": [
        "## **L**oad\n",
        "\n",
        "Criando um relatório sobre o  desastre do titanic"
      ],
      "metadata": {
        "id": "kNuP0SDUZMBY"
      }
    },
    {
      "cell_type": "code",
      "source": [
        "# Mesmo o dataset sendo pequeno, não preferi salvar em variáveis as funções, pois no momento atual não há previsão\n",
        "# de reuso\n",
        "relatorio = f\"\"\"\n",
        "O Titanic era composto por passageiros do gênero:\n",
        "{definindo_genero(df)}\n",
        "\n",
        "A classe social no Titanic era dividida em:\n",
        "{definindo_classe_social(df)}\n",
        "\n",
        "A divisão por faixa etária era de:\n",
        "{calcular_e_imprimir_contagem_faixa_etaria(df)}\n",
        "\n",
        "Número de sobreviventes por faixa etária:\n",
        "{df[df['Survived'] == 1]['Faixa_Etaria'].value_counts().to_string()}\n",
        "\n",
        "O número de falecidos por faixa etária:\n",
        "{df[df['Survived'] == 0]['Faixa_Etaria'].value_counts().to_string()}\n",
        "\n",
        "Percentual geral de sobreviventes e falecidos do Titanic:\n",
        "{percentual_geral_sobreviventes()}\n",
        "\"\"\"\n",
        "\n",
        "print(relatorio)"
      ],
      "metadata": {
        "colab": {
          "base_uri": "https://localhost:8080/"
        },
        "id": "RrZhd_HV6HDV",
        "outputId": "08bbaa3c-58ec-4fde-8b5b-9cd9b60f535b"
      },
      "execution_count": null,
      "outputs": [
        {
          "output_type": "stream",
          "name": "stdout",
          "text": [
            "\n",
            "O Titanic era composto por passageiros do gênero:\n",
            "Feminino: 36.36%\n",
            "Masculino: 63.64%\n",
            "\n",
            "A classe social no Titanic era dividida em:\n",
            "\n",
            "Classe Baixa: 73.44%, \n",
            "Classe Média: 14.11%, \n",
            "Classe Alta: 12.20%\n",
            "\n",
            "A divisão por faixa etária era de:\n",
            "                      Faixa_Etaria\n",
            "Adulto                         277\n",
            "Idade não confirmada            86\n",
            "Criança                         20\n",
            "Idoso                           14\n",
            "Adolescente                     13\n",
            "Pré-adolescente                  8\n",
            "\n",
            "Número de sobreviventes por faixa etária:\n",
            "Adulto                  103\n",
            "Idade não confirmada     25\n",
            "Criança                   9\n",
            "Idoso                     7\n",
            "Adolescente               5\n",
            "Pré-adolescente           3\n",
            "\n",
            "O número de falecidos por faixa etária:\n",
            "Adulto                  174\n",
            "Idade não confirmada     61\n",
            "Criança                  11\n",
            "Adolescente               8\n",
            "Idoso                     7\n",
            "Pré-adolescente           5\n",
            "\n",
            "Percentual geral de sobreviventes e falecidos do Titanic:\n",
            "Percentual de pessoas que sobreviveram: 36.36%\n",
            "Percentual de pessoas que morreram: 63.64%\n",
            "\n"
          ]
        }
      ]
    },
    {
      "cell_type": "markdown",
      "source": [],
      "metadata": {
        "id": "BHZ3SGDzmBMJ"
      }
    }
  ]
}